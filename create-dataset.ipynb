{
 "cells": [
  {
   "cell_type": "code",
   "execution_count": 399,
   "metadata": {},
   "outputs": [
    {
     "data": {
      "text/plain": [
       "True"
      ]
     },
     "execution_count": 399,
     "metadata": {},
     "output_type": "execute_result"
    }
   ],
   "source": [
    "import numpy as np \n",
    "import pandas as pd\n",
    "import spotipy\n",
    "from spotipy.oauth2 import SpotifyClientCredentials\n",
    "import os\n",
    "import sys\n",
    "from dotenv import load_dotenv\n",
    "load_dotenv()"
   ]
  },
  {
   "cell_type": "code",
   "execution_count": 400,
   "metadata": {},
   "outputs": [],
   "source": [
    "token = SpotifyClientCredentials(client_id= os.getenv('SPOTIFY_CLIENT_ID'), client_secret= os.getenv('SPOTIFY_SECRET'))\n",
    "sp = spotipy.Spotify(client_credentials_manager= token)"
   ]
  },
  {
   "cell_type": "code",
   "execution_count": 424,
   "metadata": {},
   "outputs": [],
   "source": [
    "# Fetch songs from a single playlist\n",
    "def fetch_songs(playlist_id):\n",
    "    playlist_features_list = [\"artist\", \"album\", \"track_name\", \"track_id\"]\n",
    "    \n",
    "    playlist_df = pd.DataFrame(columns = playlist_features_list)\n",
    "    results = sp.playlist_tracks(playlist_id)\n",
    "    tracks_data = results['tracks']\n",
    "    tracks = []\n",
    "\n",
    "    # Collect every page of track data\n",
    "    print('started reading tracks from playlist')\n",
    "    while tracks_data['next']:\n",
    "        tracks_data = sp.next(tracks_data)\n",
    "        tracks.extend(tracks_data['items'])\n",
    "    print('finished reading tracks')\n",
    "    for track in tracks:\n",
    "        playlist_features = {}\n",
    "        \n",
    "        # Get metadata\n",
    "        playlist_features[\"artist\"] = track[\"track\"][\"album\"][\"artists\"][0][\"name\"]\n",
    "        playlist_features[\"album\"] = track[\"track\"][\"album\"][\"name\"]\n",
    "        playlist_features[\"track_name\"] = track[\"track\"][\"name\"]\n",
    "        playlist_features[\"track_id\"] = track[\"track\"][\"id\"]\n",
    "        playlist_features[\"popularity\"] = track[\"track\"][\"popularity\"]\n",
    "\n",
    "        # Concat\n",
    "        track_df = pd.DataFrame(playlist_features, index = [0])\n",
    "        playlist_df = pd.concat([playlist_df, track_df], ignore_index = True)\n",
    "    ids = playlist_df['track_id'].to_list()\n",
    "    \n",
    "    # Grab all the song analysis data\n",
    "    analysis_features = [\"acousticness\", \"liveness\", \"loudness\", \"speechiness\", \"tempo\", \n",
    "                         \"time_signature\", \"tempo\", \"energy\", \"instrumentalness\", \"time_signature\", \"id\"]\n",
    "    analysis_df = pd.DataFrame()\n",
    "    analysis_data = {}\n",
    "    print('started reading features')\n",
    "    # for i in range(len(ids)):\n",
    "        # TODO: Need to make less requests\n",
    "        # song_analysis = sp.audio_features(ids[i])\n",
    "        # for j in range(len(analysis_features)):\n",
    "            # analysis_data[analysis_features[j]] = song_analysis[0][analysis_features[j]]\n",
    "        #curr_anal_df = pd.DataFrame(analysis_data, index = [0])\n",
    "        #analysis_df = pd.concat([analysis_df, curr_anal_df], ignore_index = True)\n",
    "    i = 0\n",
    "    print(len(playlist_features))\n",
    "    while i <= len(ids):\n",
    "        song_analysis = sp.audio_features(ids[i:i+99])\n",
    "        print(song_analysis)\n",
    "        for j in range(len(analysis_features)):\n",
    "            for anal in song_analysis:\n",
    "                analysis_data[analysis_features[j]] = anal[analysis_features[j]]\n",
    "        print(analysis_data)\n",
    "        i += 99\n",
    "        print(i)\n",
    "        curr_anal_df = pd.DataFrame(analysis_data, index = [0])\n",
    "        analysis_df = pd.concat([analysis_df, curr_anal_df], ignore_index = True)\n",
    "    print('finished reading features')\n",
    "\n",
    "    # TODO: Remove\n",
    "    tracks_df = pd.merge(left=playlist_df, right=analysis_df, left_on='track_id', right_on='id')\n",
    "\n",
    "    return tracks_df \n",
    "    \n"
   ]
  },
  {
   "cell_type": "code",
   "execution_count": 425,
   "metadata": {},
   "outputs": [
    {
     "name": "stdout",
     "output_type": "stream",
     "text": [
      "started reading tracks from playlist\n"
     ]
    }
   ],
   "source": [
    "fetch_songs('4rnleEAOdmFAbRcNCgZMpY?si=4c088aeade4b43e5')"
   ]
  },
  {
   "cell_type": "code",
   "execution_count": null,
   "metadata": {},
   "outputs": [],
   "source": [
    "\n",
    "\n",
    "#Function skeletons\n",
    "\n",
    "def groupby_genre(songs_df):\n",
    "    pass\n",
    "def groupby_artist(songs_df):\n",
    "    pass\n",
    "def groupby_popularity(songs_df):\n",
    "    pass\n",
    "def groupby_audio_features(songs_df):\n",
    "    pass"
   ]
  },
  {
   "cell_type": "code",
   "execution_count": null,
   "metadata": {},
   "outputs": [],
   "source": []
  },
  {
   "cell_type": "code",
   "execution_count": null,
   "metadata": {},
   "outputs": [],
   "source": []
  }
 ],
 "metadata": {
  "interpreter": {
   "hash": "31f2aee4e71d21fbe5cf8b01ff0e069b9275f58929596ceb00d14d90e3e16cd6"
  },
  "kernelspec": {
   "display_name": "Python 3.8.10 64-bit",
   "language": "python",
   "name": "python3"
  },
  "language_info": {
   "codemirror_mode": {
    "name": "ipython",
    "version": 3
   },
   "file_extension": ".py",
   "mimetype": "text/x-python",
   "name": "python",
   "nbconvert_exporter": "python",
   "pygments_lexer": "ipython3",
   "version": "3.8.2"
  },
  "orig_nbformat": 4
 },
 "nbformat": 4,
 "nbformat_minor": 2
}
